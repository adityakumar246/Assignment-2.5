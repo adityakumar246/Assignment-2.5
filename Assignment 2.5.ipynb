{
 "cells": [
  {
   "cell_type": "code",
   "execution_count": null,
   "metadata": {},
   "outputs": [],
   "source": [
    "QUESTION"
   ]
  },
  {
   "cell_type": "code",
   "execution_count": null,
   "metadata": {},
   "outputs": [],
   "source": [
    "Problem Statement 1:\n",
    "Write a Python program using function concept that maps list of words into a list of\n",
    "integers representing the lengths of the corresponding words.\n",
    "Hint: ​If a list [ ab,cde,erty] is passed on to the python function output should come as\n",
    "[2,3,4]\n",
    "Here 2,3 and 4 are the lengths of the words in the list.\n",
    "\n",
    "Problem Statement 2:\n",
    "Write a Python function which takes a character (i.e. a string of length 1) and returns\n",
    "True if it is a vowel, False otherwise."
   ]
  },
  {
   "cell_type": "code",
   "execution_count": null,
   "metadata": {},
   "outputs": [],
   "source": [
    "ANSWER"
   ]
  },
  {
   "cell_type": "code",
   "execution_count": 5,
   "metadata": {},
   "outputs": [
    {
     "data": {
      "text/plain": [
       "[2, 3, 4]"
      ]
     },
     "execution_count": 5,
     "metadata": {},
     "output_type": "execute_result"
    }
   ],
   "source": [
    "#2.5.1\n",
    "l1=[] \n",
    "def lenlist(l2): \n",
    "    for x in l2: \n",
    "        l1.append(len(x)) \n",
    "    return(l1)\n",
    "\n",
    "lenlist (['ab','cde','erty'])"
   ]
  },
  {
   "cell_type": "code",
   "execution_count": 3,
   "metadata": {},
   "outputs": [
    {
     "name": "stdout",
     "output_type": "stream",
     "text": [
      "C is not a vowel\n"
     ]
    }
   ],
   "source": [
    "#2.5.2\n",
    "v1 = ['a','e','i','o','u'] \n",
    "def vowchk(x): \n",
    "    if len(x)!=1: \n",
    "        print ('Give only one character between A-Z !') \n",
    "    elif x.lower() in v1: \n",
    "        print (x, \"is a vowel\") \n",
    "    else: \n",
    "        print(x, \"is not a vowel\")\n",
    "\n",
    "vowchk(\"C\")"
   ]
  }
 ],
 "metadata": {
  "kernelspec": {
   "display_name": "Python 3",
   "language": "python",
   "name": "python3"
  },
  "language_info": {
   "codemirror_mode": {
    "name": "ipython",
    "version": 3
   },
   "file_extension": ".py",
   "mimetype": "text/x-python",
   "name": "python",
   "nbconvert_exporter": "python",
   "pygments_lexer": "ipython3",
   "version": "3.6.6"
  }
 },
 "nbformat": 4,
 "nbformat_minor": 2
}
